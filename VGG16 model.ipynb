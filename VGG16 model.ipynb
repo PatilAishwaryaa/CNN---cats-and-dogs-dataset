{
 "cells": [
  {
   "cell_type": "code",
   "execution_count": 15,
   "id": "61795af2",
   "metadata": {},
   "outputs": [],
   "source": [
    "import numpy as np\n",
    "import pandas as pd\n",
    "%matplotlib inline\n",
    "import matplotlib as mpl\n",
    "import matplotlib.pyplot as plt\n",
    "import os"
   ]
  },
  {
   "cell_type": "code",
   "execution_count": 16,
   "id": "c65a6523",
   "metadata": {},
   "outputs": [],
   "source": [
    "import tensorflow as tf\n",
    "from tensorflow import keras"
   ]
  },
  {
   "cell_type": "code",
   "execution_count": 17,
   "id": "dcae814b",
   "metadata": {},
   "outputs": [],
   "source": [
    "test_dir =r'C:\\Users\\Aishwarya Patil\\Desktop\\ML Projects\\CNN models\\cats_and_dogs_small\\test'\n",
    "validation_dir =r'C:\\Users\\Aishwarya Patil\\Desktop\\ML Projects\\CNN models\\cats_and_dogs_small\\validation'\n",
    "train_dir =r'C:\\Users\\Aishwarya Patil\\Desktop\\ML Projects\\CNN models\\cats_and_dogs_small\\train'"
   ]
  },
  {
   "cell_type": "code",
   "execution_count": 18,
   "id": "efc15a7b",
   "metadata": {},
   "outputs": [],
   "source": [
    "from tensorflow.keras.preprocessing.image import ImageDataGenerator"
   ]
  },
  {
   "cell_type": "code",
   "execution_count": 19,
   "id": "892b8390",
   "metadata": {},
   "outputs": [
    {
     "name": "stdout",
     "output_type": "stream",
     "text": [
      "Found 2000 images belonging to 2 classes.\n",
      "Found 1000 images belonging to 2 classes.\n"
     ]
    }
   ],
   "source": [
    "train_datagen = ImageDataGenerator(rescale=1./255,rotation_range=40,width_shift_range=0.2,height_shift_range=0.2,shear_range=0.2,zoom_range=0.2,horizontal_flip=True,)\n",
    "test_datagen = ImageDataGenerator(rescale=1./255)\n",
    "\n",
    "train_generator = train_datagen.flow_from_directory(train_dir,target_size=(150,150),batch_size=20,class_mode='binary')\n",
    "validation_generator = test_datagen.flow_from_directory(validation_dir,target_size=(150,150),batch_size=20,class_mode='binary')"
   ]
  },
  {
   "cell_type": "code",
   "execution_count": 21,
   "id": "d6175857",
   "metadata": {},
   "outputs": [
    {
     "name": "stdout",
     "output_type": "stream",
     "text": [
      "Downloading data from https://storage.googleapis.com/tensorflow/keras-applications/vgg16/vgg16_weights_tf_dim_ordering_tf_kernels_notop.h5\n",
      "58889256/58889256 [==============================] - 3s 0us/step\n"
     ]
    }
   ],
   "source": [
    "from tensorflow.keras.applications import VGG16\n",
    "conv_base=VGG16(weights='imagenet',include_top=False,input_shape=(150,150,3))"
   ]
  },
  {
   "cell_type": "code",
   "execution_count": 24,
   "id": "8ad157db",
   "metadata": {},
   "outputs": [
    {
     "name": "stdout",
     "output_type": "stream",
     "text": [
      "Model: \"vgg16\"\n",
      "_________________________________________________________________\n",
      " Layer (type)                Output Shape              Param #   \n",
      "=================================================================\n",
      " input_1 (InputLayer)        [(None, 150, 150, 3)]     0         \n",
      "                                                                 \n",
      " block1_conv1 (Conv2D)       (None, 150, 150, 64)      1792      \n",
      "                                                                 \n",
      " block1_conv2 (Conv2D)       (None, 150, 150, 64)      36928     \n",
      "                                                                 \n",
      " block1_pool (MaxPooling2D)  (None, 75, 75, 64)        0         \n",
      "                                                                 \n",
      " block2_conv1 (Conv2D)       (None, 75, 75, 128)       73856     \n",
      "                                                                 \n",
      " block2_conv2 (Conv2D)       (None, 75, 75, 128)       147584    \n",
      "                                                                 \n",
      " block2_pool (MaxPooling2D)  (None, 37, 37, 128)       0         \n",
      "                                                                 \n",
      " block3_conv1 (Conv2D)       (None, 37, 37, 256)       295168    \n",
      "                                                                 \n",
      " block3_conv2 (Conv2D)       (None, 37, 37, 256)       590080    \n",
      "                                                                 \n",
      " block3_conv3 (Conv2D)       (None, 37, 37, 256)       590080    \n",
      "                                                                 \n",
      " block3_pool (MaxPooling2D)  (None, 18, 18, 256)       0         \n",
      "                                                                 \n",
      " block4_conv1 (Conv2D)       (None, 18, 18, 512)       1180160   \n",
      "                                                                 \n",
      " block4_conv2 (Conv2D)       (None, 18, 18, 512)       2359808   \n",
      "                                                                 \n",
      " block4_conv3 (Conv2D)       (None, 18, 18, 512)       2359808   \n",
      "                                                                 \n",
      " block4_pool (MaxPooling2D)  (None, 9, 9, 512)         0         \n",
      "                                                                 \n",
      " block5_conv1 (Conv2D)       (None, 9, 9, 512)         2359808   \n",
      "                                                                 \n",
      " block5_conv2 (Conv2D)       (None, 9, 9, 512)         2359808   \n",
      "                                                                 \n",
      " block5_conv3 (Conv2D)       (None, 9, 9, 512)         2359808   \n",
      "                                                                 \n",
      " block5_pool (MaxPooling2D)  (None, 4, 4, 512)         0         \n",
      "                                                                 \n",
      "=================================================================\n",
      "Total params: 14,714,688\n",
      "Trainable params: 14,714,688\n",
      "Non-trainable params: 0\n",
      "_________________________________________________________________\n"
     ]
    }
   ],
   "source": [
    "conv_base.summary()"
   ]
  },
  {
   "cell_type": "code",
   "execution_count": 20,
   "id": "383a4ad0",
   "metadata": {},
   "outputs": [],
   "source": [
    "from tensorflow.keras import layers\n",
    "from tensorflow.keras import models\n",
    "from tensorflow.keras import optimizers"
   ]
  },
  {
   "cell_type": "code",
   "execution_count": 25,
   "id": "752a49f4",
   "metadata": {},
   "outputs": [],
   "source": [
    "model = models.Sequential()\n",
    "\n",
    "model.add(conv_base)\n",
    "\n",
    "model.add(layers.Flatten())\n",
    "\n",
    "\n",
    "model.add(layers.Dense(256, activation='relu'))\n",
    "\n",
    "model.add(layers.Dense(1,activation ='sigmoid'))"
   ]
  },
  {
   "cell_type": "code",
   "execution_count": 26,
   "id": "59ccde88",
   "metadata": {},
   "outputs": [
    {
     "name": "stdout",
     "output_type": "stream",
     "text": [
      "Model: \"sequential_2\"\n",
      "_________________________________________________________________\n",
      " Layer (type)                Output Shape              Param #   \n",
      "=================================================================\n",
      " vgg16 (Functional)          (None, 4, 4, 512)         14714688  \n",
      "                                                                 \n",
      " flatten_2 (Flatten)         (None, 8192)              0         \n",
      "                                                                 \n",
      " dense_4 (Dense)             (None, 256)               2097408   \n",
      "                                                                 \n",
      " dense_5 (Dense)             (None, 1)                 257       \n",
      "                                                                 \n",
      "=================================================================\n",
      "Total params: 16,812,353\n",
      "Trainable params: 16,812,353\n",
      "Non-trainable params: 0\n",
      "_________________________________________________________________\n"
     ]
    }
   ],
   "source": [
    "model.summary()"
   ]
  },
  {
   "cell_type": "code",
   "execution_count": 27,
   "id": "24a2569a",
   "metadata": {},
   "outputs": [],
   "source": [
    "model.compile(loss='binary_crossentropy',optimizer=optimizers.RMSprop(lr=2e-5),metrics=['acc'])"
   ]
  },
  {
   "cell_type": "code",
   "execution_count": 28,
   "id": "21b68d65",
   "metadata": {},
   "outputs": [],
   "source": [
    "checkpoint_cb=keras.callbacks.ModelCheckpoint(\"CNN_Project_Model-{epoch:02d}.h5\")"
   ]
  },
  {
   "cell_type": "code",
   "execution_count": 29,
   "id": "98b8760c",
   "metadata": {},
   "outputs": [
    {
     "name": "stderr",
     "output_type": "stream",
     "text": [
      "C:\\Users\\Aishwarya Patil\\AppData\\Local\\Temp\\ipykernel_9052\\1209161019.py:1: UserWarning: `Model.fit_generator` is deprecated and will be removed in a future version. Please use `Model.fit`, which supports generators.\n",
      "  history =model.fit_generator(train_generator,steps_per_epoch = 100,epochs=30,validation_data = validation_generator,validation_steps = 50,callbacks=[checkpoint_cb])\n"
     ]
    },
    {
     "name": "stdout",
     "output_type": "stream",
     "text": [
      "Epoch 1/30\n",
      "100/100 [==============================] - 660s 7s/step - loss: 0.4521 - acc: 0.7785 - val_loss: 0.1722 - val_acc: 0.9320\n",
      "Epoch 2/30\n",
      "100/100 [==============================] - 672s 7s/step - loss: 0.2766 - acc: 0.8875 - val_loss: 0.1312 - val_acc: 0.9530\n",
      "Epoch 3/30\n",
      "100/100 [==============================] - 715s 7s/step - loss: 0.1956 - acc: 0.9195 - val_loss: 0.1565 - val_acc: 0.9310\n",
      "Epoch 4/30\n",
      "100/100 [==============================] - 701s 7s/step - loss: 0.1875 - acc: 0.9235 - val_loss: 0.2000 - val_acc: 0.9260\n",
      "Epoch 5/30\n",
      "100/100 [==============================] - 660s 7s/step - loss: 0.1544 - acc: 0.9410 - val_loss: 0.4344 - val_acc: 0.8600\n",
      "Epoch 6/30\n",
      "100/100 [==============================] - 652s 7s/step - loss: 0.1369 - acc: 0.9385 - val_loss: 0.0871 - val_acc: 0.9600\n",
      "Epoch 7/30\n",
      "100/100 [==============================] - 636s 6s/step - loss: 0.1099 - acc: 0.9535 - val_loss: 0.0902 - val_acc: 0.9620\n",
      "Epoch 8/30\n",
      "100/100 [==============================] - 647s 6s/step - loss: 0.1035 - acc: 0.9585 - val_loss: 0.1169 - val_acc: 0.9620\n",
      "Epoch 9/30\n",
      "100/100 [==============================] - 687s 7s/step - loss: 0.0872 - acc: 0.9670 - val_loss: 0.2082 - val_acc: 0.9420\n",
      "Epoch 10/30\n",
      "100/100 [==============================] - 873s 9s/step - loss: 0.0905 - acc: 0.9645 - val_loss: 0.0861 - val_acc: 0.9700\n",
      "Epoch 11/30\n",
      "100/100 [==============================] - 900s 9s/step - loss: 0.0856 - acc: 0.9655 - val_loss: 0.0845 - val_acc: 0.9730\n",
      "Epoch 12/30\n",
      "100/100 [==============================] - 899s 9s/step - loss: 0.0798 - acc: 0.9675 - val_loss: 0.1425 - val_acc: 0.9590\n",
      "Epoch 13/30\n",
      "100/100 [==============================] - 895s 9s/step - loss: 0.0656 - acc: 0.9765 - val_loss: 0.1437 - val_acc: 0.9540\n",
      "Epoch 14/30\n",
      "100/100 [==============================] - 9761s 99s/step - loss: 0.0845 - acc: 0.9765 - val_loss: 0.0820 - val_acc: 0.9730\n",
      "Epoch 15/30\n",
      "100/100 [==============================] - 671s 7s/step - loss: 0.0611 - acc: 0.9760 - val_loss: 0.1032 - val_acc: 0.9680\n",
      "Epoch 16/30\n",
      "100/100 [==============================] - 692s 7s/step - loss: 0.0504 - acc: 0.9840 - val_loss: 0.1052 - val_acc: 0.9640\n",
      "Epoch 17/30\n",
      "100/100 [==============================] - 664s 7s/step - loss: 0.0631 - acc: 0.9775 - val_loss: 0.1139 - val_acc: 0.9690\n",
      "Epoch 18/30\n",
      "100/100 [==============================] - 646s 6s/step - loss: 0.0577 - acc: 0.9795 - val_loss: 0.0810 - val_acc: 0.9750\n",
      "Epoch 19/30\n",
      "100/100 [==============================] - 651s 7s/step - loss: 0.0591 - acc: 0.9815 - val_loss: 0.3213 - val_acc: 0.9270\n",
      "Epoch 20/30\n",
      "100/100 [==============================] - 637s 6s/step - loss: 0.0467 - acc: 0.9885 - val_loss: 0.1171 - val_acc: 0.9640\n",
      "Epoch 21/30\n",
      "100/100 [==============================] - 641s 6s/step - loss: 0.0381 - acc: 0.9855 - val_loss: 0.1046 - val_acc: 0.9690\n",
      "Epoch 22/30\n",
      "100/100 [==============================] - 730s 7s/step - loss: 0.0645 - acc: 0.9790 - val_loss: 0.0789 - val_acc: 0.9720\n",
      "Epoch 23/30\n",
      "100/100 [==============================] - 762s 8s/step - loss: 0.0339 - acc: 0.9865 - val_loss: 0.1201 - val_acc: 0.9650\n",
      "Epoch 24/30\n",
      "100/100 [==============================] - 639s 6s/step - loss: 0.0359 - acc: 0.9890 - val_loss: 0.1366 - val_acc: 0.9590\n",
      "Epoch 25/30\n",
      "100/100 [==============================] - 635s 6s/step - loss: 0.0462 - acc: 0.9840 - val_loss: 0.1051 - val_acc: 0.9700\n",
      "Epoch 26/30\n",
      "100/100 [==============================] - 639s 6s/step - loss: 0.0465 - acc: 0.9815 - val_loss: 0.1039 - val_acc: 0.9730\n",
      "Epoch 27/30\n",
      "100/100 [==============================] - 639s 6s/step - loss: 0.0408 - acc: 0.9895 - val_loss: 0.1319 - val_acc: 0.9690\n",
      "Epoch 28/30\n",
      "100/100 [==============================] - 639s 6s/step - loss: 0.0434 - acc: 0.9870 - val_loss: 0.1163 - val_acc: 0.9730\n",
      "Epoch 29/30\n",
      "100/100 [==============================] - 638s 6s/step - loss: 0.0545 - acc: 0.9835 - val_loss: 0.1212 - val_acc: 0.9700\n",
      "Epoch 30/30\n",
      "100/100 [==============================] - 1953s 20s/step - loss: 0.0400 - acc: 0.9870 - val_loss: 0.1349 - val_acc: 0.9550\n"
     ]
    }
   ],
   "source": [
    "history =model.fit_generator(train_generator,steps_per_epoch = 100,epochs=30,validation_data = validation_generator,validation_steps = 50,callbacks=[checkpoint_cb])"
   ]
  },
  {
   "cell_type": "code",
   "execution_count": 30,
   "id": "e295b72d",
   "metadata": {},
   "outputs": [
    {
     "data": {
      "image/png": "[encoded data removed]",
      "text/plain": [
       "<Figure size 800x500 with 1 Axes>"
      ]
     },
     "metadata": {},
     "output_type": "display_data"
    }
   ],
   "source": [
    "pd.DataFrame(history.history).plot(figsize=(8,5))\n",
    "plt.grid(True)\n",
    "plt.gca().set_ylim(0,1)\n",
    "plt.show()"
   ]
  },
  {
   "cell_type": "code",
   "execution_count": 31,
   "id": "e26340dc",
   "metadata": {},
   "outputs": [],
   "source": [
    "hist_df=pd.DataFrame(history.history)"
   ]
  },
  {
   "cell_type": "code",
   "execution_count": 32,
   "id": "9978e681",
   "metadata": {},
   "outputs": [],
   "source": [
    "hist_csv_file='history.csv'\n",
    "with open(hist_csv_file,mode='w') as f:\n",
    "    hist_df.to_csv(f)"
   ]
  },
  {
   "cell_type": "code",
   "execution_count": 33,
   "id": "be230811",
   "metadata": {},
   "outputs": [
    {
     "name": "stdout",
     "output_type": "stream",
     "text": [
      "Found 1000 images belonging to 2 classes.\n"
     ]
    }
   ],
   "source": [
    "test_generator = test_datagen.flow_from_directory(test_dir,target_size=(150,150),batch_size=20,class_mode='binary')"
   ]
  },
  {
   "cell_type": "code",
   "execution_count": 34,
   "id": "aceb070c",
   "metadata": {},
   "outputs": [
    {
     "name": "stderr",
     "output_type": "stream",
     "text": [
      "C:\\Users\\Aishwarya Patil\\AppData\\Local\\Temp\\ipykernel_9052\\2075860562.py:1: UserWarning: `Model.evaluate_generator` is deprecated and will be removed in a future version. Please use `Model.evaluate`, which supports generators.\n",
      "  model.evaluate_generator(test_generator,steps=50)\n"
     ]
    },
    {
     "data": {
      "text/plain": [
       "[0.16825906932353973, 0.9520000219345093]"
      ]
     },
     "execution_count": 34,
     "metadata": {},
     "output_type": "execute_result"
    }
   ],
   "source": [
    "model.evaluate_generator(test_generator,steps=50)"
   ]
  }
 ],
 "metadata": {
  "kernelspec": {
   "display_name": "Python 3 (ipykernel)",
   "language": "python",
   "name": "python3"
  },
  "language_info": {
   "codemirror_mode": {
    "name": "ipython",
    "version": 3
   },
   "file_extension": ".py",
   "mimetype": "text/x-python",
   "name": "python",
   "nbconvert_exporter": "python",
   "pygments_lexer": "ipython3",
   "version": "3.9.13"
  }
 },
 "nbformat": 4,
 "nbformat_minor": 5
}
