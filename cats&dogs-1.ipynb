{
 "cells": [
  {
   "cell_type": "code",
   "execution_count": 1,
   "id": "7bf466e2",
   "metadata": {},
   "outputs": [],
   "source": [
    "import numpy as np\n",
    "import pandas as pd\n",
    "%matplotlib inline\n",
    "import matplotlib as mpl\n",
    "import matplotlib.pyplot as plt\n",
    "import os"
   ]
  },
  {
   "cell_type": "code",
   "execution_count": 2,
   "id": "3a272727",
   "metadata": {},
   "outputs": [],
   "source": [
    "import tensorflow as tf\n",
    "from tensorflow import keras"
   ]
  },
  {
   "cell_type": "code",
   "execution_count": 3,
   "id": "a32ea8c2",
   "metadata": {},
   "outputs": [],
   "source": [
    "test_dir =r'C:\\Users\\Aishwarya Patil\\Desktop\\ML Projects\\CNN models\\cats_and_dogs_small\\test'\n",
    "validation_dir =r'C:\\Users\\Aishwarya Patil\\Desktop\\ML Projects\\CNN models\\cats_and_dogs_small\\validation'\n",
    "train_dir =r'C:\\Users\\Aishwarya Patil\\Desktop\\ML Projects\\CNN models\\cats_and_dogs_small\\train'"
   ]
  },
  {
   "cell_type": "code",
   "execution_count": 4,
   "id": "48133c71",
   "metadata": {},
   "outputs": [],
   "source": [
    "from tensorflow.keras.preprocessing.image import ImageDataGenerator"
   ]
  },
  {
   "cell_type": "code",
   "execution_count": 5,
   "id": "e7af4c60",
   "metadata": {},
   "outputs": [
    {
     "name": "stdout",
     "output_type": "stream",
     "text": [
      "Found 2000 images belonging to 2 classes.\n",
      "Found 1000 images belonging to 2 classes.\n"
     ]
    }
   ],
   "source": [
    "train_datagen = ImageDataGenerator(rescale=1./255)\n",
    "test_datagen = ImageDataGenerator(rescale=1./255)\n",
    "\n",
    "train_generator = train_datagen.flow_from_directory(train_dir,target_size=(150,150),batch_size=20,class_mode='binary')\n",
    "validation_generator = test_datagen.flow_from_directory(validation_dir,target_size=(150,150),batch_size=20,class_mode='binary')"
   ]
  },
  {
   "cell_type": "code",
   "execution_count": 6,
   "id": "0d5f329c",
   "metadata": {},
   "outputs": [],
   "source": [
    "from tensorflow.keras import layers\n",
    "from tensorflow.keras import models"
   ]
  },
  {
   "cell_type": "code",
   "execution_count": 7,
   "id": "22e029c0",
   "metadata": {},
   "outputs": [],
   "source": [
    "model = models.Sequential()\n",
    "\n",
    "model.add(layers.Conv2D(32, (3,3),activation='relu',input_shape=(150,150,3)))\n",
    "model.add(layers.MaxPooling2D((2,2)))\n",
    "\n",
    "model.add(layers.Conv2D(64, (3,3),activation='relu',input_shape=(150,150,3)))\n",
    "model.add(layers.MaxPooling2D((2,2)))\n",
    "\n",
    "model.add(layers.Conv2D(128, (3,3),activation='relu',input_shape=(150,150,3)))\n",
    "model.add(layers.MaxPooling2D((2,2)))\n",
    "\n",
    "model.add(layers.Conv2D(128, (3,3),activation='relu',input_shape=(150,150,3)))\n",
    "model.add(layers.MaxPooling2D((2,2)))\n",
    "\n",
    "model.add(layers.Flatten())\n",
    "\n",
    "model.add(layers.Dense(512, activation='relu'))\n",
    "\n",
    "model.add(layers.Dense(1,activation ='sigmoid'))"
   ]
  },
  {
   "cell_type": "code",
   "execution_count": 8,
   "id": "183cf686",
   "metadata": {},
   "outputs": [
    {
     "name": "stdout",
     "output_type": "stream",
     "text": [
      "Model: \"sequential\"\n",
      "_________________________________________________________________\n",
      " Layer (type)                Output Shape              Param #   \n",
      "=================================================================\n",
      " conv2d (Conv2D)             (None, 148, 148, 32)      896       \n",
      "                                                                 \n",
      " max_pooling2d (MaxPooling2D  (None, 74, 74, 32)       0         \n",
      " )                                                               \n",
      "                                                                 \n",
      " conv2d_1 (Conv2D)           (None, 72, 72, 64)        18496     \n",
      "                                                                 \n",
      " max_pooling2d_1 (MaxPooling  (None, 36, 36, 64)       0         \n",
      " 2D)                                                             \n",
      "                                                                 \n",
      " conv2d_2 (Conv2D)           (None, 34, 34, 128)       73856     \n",
      "                                                                 \n",
      " max_pooling2d_2 (MaxPooling  (None, 17, 17, 128)      0         \n",
      " 2D)                                                             \n",
      "                                                                 \n",
      " conv2d_3 (Conv2D)           (None, 15, 15, 128)       147584    \n",
      "                                                                 \n",
      " max_pooling2d_3 (MaxPooling  (None, 7, 7, 128)        0         \n",
      " 2D)                                                             \n",
      "                                                                 \n",
      " flatten (Flatten)           (None, 6272)              0         \n",
      "                                                                 \n",
      " dense (Dense)               (None, 512)               3211776   \n",
      "                                                                 \n",
      " dense_1 (Dense)             (None, 1)                 513       \n",
      "                                                                 \n",
      "=================================================================\n",
      "Total params: 3,453,121\n",
      "Trainable params: 3,453,121\n",
      "Non-trainable params: 0\n",
      "_________________________________________________________________\n"
     ]
    }
   ],
   "source": [
    "model.summary()"
   ]
  },
  {
   "cell_type": "code",
   "execution_count": 9,
   "id": "8de1e9e6",
   "metadata": {},
   "outputs": [
    {
     "name": "stderr",
     "output_type": "stream",
     "text": [
      "C:\\Games\\lib\\site-packages\\keras\\optimizers\\optimizer_v2\\rmsprop.py:135: UserWarning: The `lr` argument is deprecated, use `learning_rate` instead.\n",
      "  super(RMSprop, self).__init__(name, **kwargs)\n"
     ]
    }
   ],
   "source": [
    "from tensorflow.keras import optimizers\n",
    "\n",
    "model.compile(loss='binary_crossentropy',optimizer=optimizers.RMSprop(lr=1e-4),metrics=['acc'])"
   ]
  },
  {
   "cell_type": "code",
   "execution_count": 10,
   "id": "0dfb7b6e",
   "metadata": {},
   "outputs": [
    {
     "name": "stderr",
     "output_type": "stream",
     "text": [
      "C:\\Users\\Aishwarya Patil\\AppData\\Local\\Temp\\ipykernel_15780\\2942848801.py:1: UserWarning: `Model.fit_generator` is deprecated and will be removed in a future version. Please use `Model.fit`, which supports generators.\n",
      "  history =model.fit_generator(train_generator,steps_per_epoch = 100,epochs=20,validation_data = validation_generator,validation_steps = 50)\n"
     ]
    },
    {
     "name": "stdout",
     "output_type": "stream",
     "text": [
      "Epoch 1/20\n",
      "100/100 [==============================] - 77s 762ms/step - loss: 0.6945 - acc: 0.5230 - val_loss: 0.6705 - val_acc: 0.5800\n",
      "Epoch 2/20\n",
      "100/100 [==============================] - 64s 638ms/step - loss: 0.6614 - acc: 0.6155 - val_loss: 0.6429 - val_acc: 0.6490\n",
      "Epoch 3/20\n",
      "100/100 [==============================] - 46s 459ms/step - loss: 0.6129 - acc: 0.6695 - val_loss: 0.6691 - val_acc: 0.5740\n",
      "Epoch 4/20\n",
      "100/100 [==============================] - 45s 451ms/step - loss: 0.5732 - acc: 0.7095 - val_loss: 0.6016 - val_acc: 0.6720\n",
      "Epoch 5/20\n",
      "100/100 [==============================] - 45s 454ms/step - loss: 0.5344 - acc: 0.7240 - val_loss: 0.5972 - val_acc: 0.6730\n",
      "Epoch 6/20\n",
      "100/100 [==============================] - 44s 445ms/step - loss: 0.5073 - acc: 0.7540 - val_loss: 0.5686 - val_acc: 0.6930\n",
      "Epoch 7/20\n",
      "100/100 [==============================] - 44s 444ms/step - loss: 0.4754 - acc: 0.7710 - val_loss: 0.5598 - val_acc: 0.6970\n",
      "Epoch 8/20\n",
      "100/100 [==============================] - 44s 445ms/step - loss: 0.4504 - acc: 0.7925 - val_loss: 0.5622 - val_acc: 0.7130\n",
      "Epoch 9/20\n",
      "100/100 [==============================] - 45s 446ms/step - loss: 0.4153 - acc: 0.8140 - val_loss: 0.5644 - val_acc: 0.7140\n",
      "Epoch 10/20\n",
      "100/100 [==============================] - 45s 450ms/step - loss: 0.3872 - acc: 0.8245 - val_loss: 0.5774 - val_acc: 0.7250\n",
      "Epoch 11/20\n",
      "100/100 [==============================] - 45s 455ms/step - loss: 0.3701 - acc: 0.8420 - val_loss: 0.5811 - val_acc: 0.7190\n",
      "Epoch 12/20\n",
      "100/100 [==============================] - 46s 458ms/step - loss: 0.3400 - acc: 0.8525 - val_loss: 0.5678 - val_acc: 0.7250\n",
      "Epoch 13/20\n",
      "100/100 [==============================] - 47s 473ms/step - loss: 0.3184 - acc: 0.8665 - val_loss: 0.5757 - val_acc: 0.7360\n",
      "Epoch 14/20\n",
      "100/100 [==============================] - 50s 501ms/step - loss: 0.2889 - acc: 0.8760 - val_loss: 0.5726 - val_acc: 0.7320\n",
      "Epoch 15/20\n",
      "100/100 [==============================] - 47s 466ms/step - loss: 0.2707 - acc: 0.8915 - val_loss: 0.5991 - val_acc: 0.7190\n",
      "Epoch 16/20\n",
      "100/100 [==============================] - 48s 478ms/step - loss: 0.2348 - acc: 0.9080 - val_loss: 0.6555 - val_acc: 0.7250\n",
      "Epoch 17/20\n",
      "100/100 [==============================] - 46s 463ms/step - loss: 0.2185 - acc: 0.9160 - val_loss: 0.6310 - val_acc: 0.7300\n",
      "Epoch 18/20\n",
      "100/100 [==============================] - 47s 465ms/step - loss: 0.1959 - acc: 0.9235 - val_loss: 0.6422 - val_acc: 0.7330\n",
      "Epoch 19/20\n",
      "100/100 [==============================] - 46s 461ms/step - loss: 0.1787 - acc: 0.9395 - val_loss: 0.6832 - val_acc: 0.7210\n",
      "Epoch 20/20\n",
      "100/100 [==============================] - 46s 460ms/step - loss: 0.1517 - acc: 0.9485 - val_loss: 0.7339 - val_acc: 0.7130\n"
     ]
    }
   ],
   "source": [
    "history =model.fit_generator(train_generator,steps_per_epoch = 100,epochs=20,validation_data = validation_generator,validation_steps = 50)"
   ]
  },
  {
   "cell_type": "code",
   "execution_count": 11,
   "id": "f9f53e8e",
   "metadata": {
    "scrolled": true
   },
   "outputs": [
    {
     "data": {
      "image/png": "[encoded data removed]",
      "text/plain": [
       "<Figure size 800x500 with 1 Axes>"
      ]
     },
     "metadata": {},
     "output_type": "display_data"
    }
   ],
   "source": [
    "pd.DataFrame(history.history).plot(figsize=(8,5))\n",
    "plt.grid(True)\n",
    "plt.gca().set_ylim(0,1)\n",
    "plt.show()"
   ]
  },
  {
   "cell_type": "markdown",
   "id": "d9126d18",
   "metadata": {},
   "source": [
    "Overfitting can be treated by augmenting initial data by applying shear rotation,widthshift,heightshift and flips accuracy can be improved"
   ]
  },
  {
   "cell_type": "code",
   "execution_count": 12,
   "id": "7a235390",
   "metadata": {},
   "outputs": [],
   "source": [
    "model.save(\"model.h5\")"
   ]
  },
  {
   "cell_type": "code",
   "execution_count": 13,
   "id": "223aa2e8",
   "metadata": {},
   "outputs": [],
   "source": [
    "from tensorflow.keras import backend as k\n",
    "k.clear_session()\n",
    "del model"
   ]
  }
 ],
 "metadata": {
  "kernelspec": {
   "display_name": "Python 3 (ipykernel)",
   "language": "python",
   "name": "python3"
  },
  "language_info": {
   "codemirror_mode": {
    "name": "ipython",
    "version": 3
   },
   "file_extension": ".py",
   "mimetype": "text/x-python",
   "name": "python",
   "nbconvert_exporter": "python",
   "pygments_lexer": "ipython3",
   "version": "3.9.13"
  }
 },
 "nbformat": 4,
 "nbformat_minor": 5
}
